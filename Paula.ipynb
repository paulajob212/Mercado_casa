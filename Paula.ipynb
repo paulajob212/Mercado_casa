{
  "nbformat": 4,
  "nbformat_minor": 0,
  "metadata": {
    "colab": {
      "provenance": [],
      "include_colab_link": true
    },
    "kernelspec": {
      "name": "python3",
      "display_name": "Python 3"
    },
    "language_info": {
      "name": "python"
    }
  },
  "cells": [
    {
      "cell_type": "markdown",
      "metadata": {
        "id": "view-in-github",
        "colab_type": "text"
      },
      "source": [
        "<a href=\"https://colab.research.google.com/github/paulajob212/Mercado_casa/blob/main/Paula.ipynb\" target=\"_parent\"><img src=\"https://colab.research.google.com/assets/colab-badge.svg\" alt=\"Open In Colab\"/></a>"
      ]
    },
    {
      "cell_type": "code",
      "source": [
        "#quiero solucionar que sale float en la tasa de desercion pasalo a numero entero\n",
        "df_cursos_especiales['TASA_DESERCION'] = df_cursos_especiales['TASA_DESERCION'].astype(int)\n",
        "print(df_cursos_especiales.head())\n",
        "print(df_cursos_especiales.info())"
      ],
      "metadata": {
        "colab": {
          "base_uri": "https://localhost:8080/"
        },
        "outputId": "5b4d63cb-1bdf-4bb3-c4a7-94ff547d2a7e",
        "id": "BK2oHywiW0-X"
      },
      "execution_count": 48,
      "outputs": [
        {
          "output_type": "stream",
          "name": "stdout",
          "text": [
            "    CODIGO_REGIONAL  NOMBRE_REGIONAL  CODIGO_CENTRO  NOMBRE_CENTRO  \\\n",
            "7                13                4           9304             24   \n",
            "8                11               14           9405             70   \n",
            "10                8                3           9302             24   \n",
            "17               13                4           9218             99   \n",
            "18               11               14           9405             70   \n",
            "\n",
            "    IDENTIFICADOR_UNICO_FICHA FECHA_INICIO_FICHA FECHA_TERMINACION_FICHA  \\\n",
            "7                    12909270         2024-02-08              2024-03-06   \n",
            "8                    12914465         2024-02-19              2024-02-27   \n",
            "10                   12918237         2024-02-06              2024-02-27   \n",
            "17                   12910192         2024-02-09              2024-03-13   \n",
            "18                   12910682         2024-02-09              2024-03-07   \n",
            "\n",
            "   CODIGO_PROGRAMA  VERSION_PROGRAMA           NOMBRE_PROGRAMA_FORMACION  \\\n",
            "7       \"13410029\"                 2  ADMINISTRACION DE RECURSOS HUMANOS   \n",
            "8       \"12110081\"                 1                  LIDERAZGO EFECTIVO   \n",
            "10      \"63220082\"                 1                   MERCADEO Y VENTAS   \n",
            "17      \"51240087\"                 1         ENGLISH DOES WORK - LEVEL 1   \n",
            "18      \"12310175\"                 1                   CUENTAS CONTABLES   \n",
            "\n",
            "   NIVEL_FORMACION MODALIDAD_FORMACION  TOTAL_APRENDICES_MATRICULADOS  \\\n",
            "7   CURSO ESPECIAL             VIRTUAL                             80   \n",
            "8   CURSO ESPECIAL          PRESENCIAL                             25   \n",
            "10  CURSO ESPECIAL          PRESENCIAL                             24   \n",
            "17  CURSO ESPECIAL             VIRTUAL                             80   \n",
            "18  CURSO ESPECIAL             VIRTUAL                             80   \n",
            "\n",
            "    DESERTORES_AÑO_ACTUAL  PERIODO  TASA_DESERCION DURACION_CURSO  \n",
            "7                       1   202402               1        27 days  \n",
            "8                       0   202402               0         8 days  \n",
            "10                      0   202402               0        21 days  \n",
            "17                      2   202402               2        33 days  \n",
            "18                      2   202402               2        27 days  \n",
            "<class 'pandas.core.frame.DataFrame'>\n",
            "Index: 14285 entries, 7 to 42077\n",
            "Data columns (total 17 columns):\n",
            " #   Column                         Non-Null Count  Dtype          \n",
            "---  ------                         --------------  -----          \n",
            " 0   CODIGO_REGIONAL                14285 non-null  int64          \n",
            " 1   NOMBRE_REGIONAL                14285 non-null  int64          \n",
            " 2   CODIGO_CENTRO                  14285 non-null  int64          \n",
            " 3   NOMBRE_CENTRO                  14285 non-null  int64          \n",
            " 4   IDENTIFICADOR_UNICO_FICHA      14285 non-null  int64          \n",
            " 5   FECHA_INICIO_FICHA             14285 non-null  datetime64[ns] \n",
            " 6   FECHA_TERMINACION_FICHA        14285 non-null  datetime64[ns] \n",
            " 7   CODIGO_PROGRAMA                14285 non-null  object         \n",
            " 8   VERSION_PROGRAMA               14285 non-null  int64          \n",
            " 9   NOMBRE_PROGRAMA_FORMACION      14285 non-null  object         \n",
            " 10  NIVEL_FORMACION                14285 non-null  object         \n",
            " 11  MODALIDAD_FORMACION            14285 non-null  object         \n",
            " 12  TOTAL_APRENDICES_MATRICULADOS  14285 non-null  int64          \n",
            " 13  DESERTORES_AÑO_ACTUAL          14285 non-null  int64          \n",
            " 14  PERIODO                        14285 non-null  int64          \n",
            " 15  TASA_DESERCION                 14285 non-null  int64          \n",
            " 16  DURACION_CURSO                 14285 non-null  timedelta64[ns]\n",
            "dtypes: datetime64[ns](2), int64(10), object(4), timedelta64[ns](1)\n",
            "memory usage: 2.0+ MB\n",
            "None\n"
          ]
        }
      ]
    },
    {
      "cell_type": "code",
      "execution_count": 2,
      "metadata": {
        "colab": {
          "base_uri": "https://localhost:8080/"
        },
        "id": "gHTAtSw_kKHt",
        "outputId": "e64e3720-8ab7-4ae8-c2db-a973a27f6a35",
        "collapsed": true
      },
      "outputs": [
        {
          "output_type": "stream",
          "name": "stdout",
          "text": [
            "<class 'pandas.core.frame.DataFrame'>\n",
            "RangeIndex: 42080 entries, 0 to 42079\n",
            "Data columns (total 15 columns):\n",
            " #   Column                         Non-Null Count  Dtype \n",
            "---  ------                         --------------  ----- \n",
            " 0   CODIGO_REGIONAL                42080 non-null  int64 \n",
            " 1   NOMBRE_REGIONAL                42080 non-null  object\n",
            " 2   CODIGO_CENTRO                  42080 non-null  int64 \n",
            " 3   NOMBRE_CENTRO                  42080 non-null  object\n",
            " 4   IDENTIFICADOR_UNICO_FICHA      42080 non-null  int64 \n",
            " 5   FECHA_INICIO_FICHA             42080 non-null  object\n",
            " 6   FECHA_TERMINACION_FICHA        42080 non-null  object\n",
            " 7   CODIGO_PROGRAMA                42080 non-null  object\n",
            " 8   VERSION_PROGRAMA               42080 non-null  int64 \n",
            " 9   NOMBRE_PROGRAMA_FORMACION      42080 non-null  object\n",
            " 10  NIVEL_FORMACION                42080 non-null  object\n",
            " 11  MODALIDAD_FORMACION            42080 non-null  object\n",
            " 12  TOTAL_APRENDICES_MATRICULADOS  42080 non-null  int64 \n",
            " 13  DESERTORES_AÑO_ACTUAL          42080 non-null  int64 \n",
            " 14  PERIODO                        42080 non-null  int64 \n",
            "dtypes: int64(7), object(8)\n",
            "memory usage: 4.8+ MB\n",
            "None\n",
            "       CODIGO_REGIONAL  CODIGO_CENTRO  IDENTIFICADOR_UNICO_FICHA  \\\n",
            "count     42080.000000   42080.000000               4.208000e+04   \n",
            "mean         35.768227    9334.255751               1.275734e+07   \n",
            "std          28.181405     159.473480               6.210224e+05   \n",
            "min           5.000000    9101.000000               2.300927e+06   \n",
            "25%          11.000000    9208.000000               1.270518e+07   \n",
            "50%          23.000000    9305.000000               1.282403e+07   \n",
            "75%          66.000000    9515.000000               1.290979e+07   \n",
            "max          99.000000    9549.000000               1.293324e+07   \n",
            "\n",
            "       VERSION_PROGRAMA  TOTAL_APRENDICES_MATRICULADOS  DESERTORES_AÑO_ACTUAL  \\\n",
            "count      42080.000000                   42080.000000           42080.000000   \n",
            "mean          10.981369                      34.391730               1.249501   \n",
            "std           29.492726                      21.347398               6.435441   \n",
            "min            1.000000                       1.000000               0.000000   \n",
            "25%            1.000000                      22.000000               0.000000   \n",
            "50%            1.000000                      27.000000               0.000000   \n",
            "75%            2.000000                      35.000000               0.000000   \n",
            "max          104.000000                     208.000000              84.000000   \n",
            "\n",
            "        PERIODO  \n",
            "count   42080.0  \n",
            "mean   202402.0  \n",
            "std         0.0  \n",
            "min    202402.0  \n",
            "25%    202402.0  \n",
            "50%    202402.0  \n",
            "75%    202402.0  \n",
            "max    202402.0  \n",
            "   CODIGO_REGIONAL     NOMBRE_REGIONAL  CODIGO_CENTRO  \\\n",
            "0               13  \"REGIONAL BOLIVAR\"           9304   \n",
            "1               19    \"REGIONAL CAUCA\"           9113   \n",
            "2               76    \"REGIONAL VALLE\"           9544   \n",
            "3               19    \"REGIONAL CAUCA\"           9113   \n",
            "4               20    \"REGIONAL CESAR\"           9520   \n",
            "\n",
            "                          NOMBRE_CENTRO  IDENTIFICADOR_UNICO_FICHA  \\\n",
            "0      \"CENTRO DE COMERCIO Y SERVICIOS\"                   12709991   \n",
            "1                 \"CENTRO AGROPECUARIO\"                   12860879   \n",
            "2  \"CENTRO DE BIOTECNOLOGIA INDUSTRIAL\"                   12710859   \n",
            "3                 \"CENTRO AGROPECUARIO\"                   12615282   \n",
            "4              \"CENTRO AGROEMPRESARIAL\"                   12715260   \n",
            "\n",
            "  FECHA_INICIO_FICHA FECHA_TERMINACION_FICHA CODIGO_PROGRAMA  \\\n",
            "0       \"27/02/2023\"            \"16/12/2024\"        \"635503\"   \n",
            "1       \"17/10/2023\"            \"01/03/2025\"        \"635604\"   \n",
            "2       \"27/02/2023\"            \"16/12/2024\"        \"233101\"   \n",
            "3       \"06/10/2022\"            \"05/10/2024\"        \"112005\"   \n",
            "4       \"06/03/2023\"            \"13/12/2024\"        \"134200\"   \n",
            "\n",
            "   VERSION_PROGRAMA     NOMBRE_PROGRAMA_FORMACION NIVEL_FORMACION  \\\n",
            "0               103                     \"COCINA.\"       \"TECNICO\"   \n",
            "1                 1        \"SERVICIOS DE BARISMO\"       \"TECNICO\"   \n",
            "2                 1                   \"SISTEMAS.\"       \"TECNICO\"   \n",
            "3               101  \"GESTION DEL TALENTO HUMANO\"     \"TECNOLOGO\"   \n",
            "4                 2          \"RECURSOS HUMANOS .\"       \"TECNICO\"   \n",
            "\n",
            "  MODALIDAD_FORMACION  TOTAL_APRENDICES_MATRICULADOS  DESERTORES_AÑO_ACTUAL  \\\n",
            "0        \"PRESENCIAL\"                             33                      0   \n",
            "1        \"PRESENCIAL\"                             21                      0   \n",
            "2        \"PRESENCIAL\"                             39                      0   \n",
            "3        \"PRESENCIAL\"                             24                      0   \n",
            "4        \"PRESENCIAL\"                             24                      0   \n",
            "\n",
            "   PERIODO  \n",
            "0   202402  \n",
            "1   202402  \n",
            "2   202402  \n",
            "3   202402  \n",
            "4   202402  \n"
          ]
        }
      ],
      "source": [
        "import pandas as pd\n",
        "import matplotlib.pyplot as plt\n",
        "import seaborn as sns\n",
        "import numpy as np\n",
        "\n",
        "# Cargar archivo\n",
        "df = pd.read_excel('DATA.xlsx') # Changed to pd.read_excel and corrected extension\n",
        "\n",
        "# Guarda una copia del dataset original antes de comenzar la limpieza.\n",
        "df_original = df.copy()\n",
        "\n",
        "# Vista general\n",
        "print(df.info())\n",
        "print(df.describe())\n",
        "print(df.head())"
      ]
    },
    {
      "cell_type": "code",
      "source": [
        "#crearemos una data donde filtremos unicamente las filas donde el nivel de formacion corresponda a cursos especiales\n",
        "df_cursos_especiales = df[df['NIVEL_FORMACION'] == '\"CURSO ESPECIAL\"'].copy()\n",
        "print(df_cursos_especiales.head())\n",
        "print(df_cursos_especiales.info())\n"
      ],
      "metadata": {
        "colab": {
          "base_uri": "https://localhost:8080/"
        },
        "collapsed": true,
        "id": "pbHKKZYlJzaC",
        "outputId": "8e9d03b7-beb2-4798-c7ea-5c19190b1512"
      },
      "execution_count": 4,
      "outputs": [
        {
          "output_type": "stream",
          "name": "stdout",
          "text": [
            "    CODIGO_REGIONAL              NOMBRE_REGIONAL  CODIGO_CENTRO  \\\n",
            "7                13           \"REGIONAL BOLIVAR\"           9304   \n",
            "8                11  \"REGIONAL DISTRITO CAPITAL\"           9405   \n",
            "10                8         \"REGIONAL ATLANTICO\"           9302   \n",
            "17               13           \"REGIONAL BOLIVAR\"           9218   \n",
            "18               11  \"REGIONAL DISTRITO CAPITAL\"           9405   \n",
            "\n",
            "                              NOMBRE_CENTRO  IDENTIFICADOR_UNICO_FICHA  \\\n",
            "7          \"CENTRO DE COMERCIO Y SERVICIOS\"                   12909270   \n",
            "8         \"CENTRO DE SERVICIOS FINANCIEROS\"                   12914465   \n",
            "10         \"CENTRO DE COMERCIO Y SERVICIOS\"                   12918237   \n",
            "17  \"CENTRO PARA LA INDUSTRIA PETROQUIMICA\"                   12910192   \n",
            "18        \"CENTRO DE SERVICIOS FINANCIEROS\"                   12910682   \n",
            "\n",
            "   FECHA_INICIO_FICHA FECHA_TERMINACION_FICHA CODIGO_PROGRAMA  \\\n",
            "7        \"08/02/2024\"            \"06/03/2024\"      \"13410029\"   \n",
            "8        \"19/02/2024\"            \"27/02/2024\"      \"12110081\"   \n",
            "10       \"06/02/2024\"            \"27/02/2024\"      \"63220082\"   \n",
            "17       \"09/02/2024\"            \"13/03/2024\"      \"51240087\"   \n",
            "18       \"09/02/2024\"            \"07/03/2024\"      \"12310175\"   \n",
            "\n",
            "    VERSION_PROGRAMA             NOMBRE_PROGRAMA_FORMACION   NIVEL_FORMACION  \\\n",
            "7                  2  \"ADMINISTRACION DE RECURSOS HUMANOS\"  \"CURSO ESPECIAL\"   \n",
            "8                  1                  \"LIDERAZGO EFECTIVO\"  \"CURSO ESPECIAL\"   \n",
            "10                 1                   \"MERCADEO Y VENTAS\"  \"CURSO ESPECIAL\"   \n",
            "17                 1         \"ENGLISH DOES WORK - LEVEL 1\"  \"CURSO ESPECIAL\"   \n",
            "18                 1                   \"CUENTAS CONTABLES\"  \"CURSO ESPECIAL\"   \n",
            "\n",
            "   MODALIDAD_FORMACION  TOTAL_APRENDICES_MATRICULADOS  DESERTORES_AÑO_ACTUAL  \\\n",
            "7            \"VIRTUAL\"                             80                      1   \n",
            "8         \"PRESENCIAL\"                             25                      0   \n",
            "10        \"PRESENCIAL\"                             24                      0   \n",
            "17           \"VIRTUAL\"                             80                      2   \n",
            "18           \"VIRTUAL\"                             80                      2   \n",
            "\n",
            "    PERIODO  \n",
            "7    202402  \n",
            "8    202402  \n",
            "10   202402  \n",
            "17   202402  \n",
            "18   202402  \n",
            "<class 'pandas.core.frame.DataFrame'>\n",
            "Index: 14285 entries, 7 to 42077\n",
            "Data columns (total 15 columns):\n",
            " #   Column                         Non-Null Count  Dtype \n",
            "---  ------                         --------------  ----- \n",
            " 0   CODIGO_REGIONAL                14285 non-null  int64 \n",
            " 1   NOMBRE_REGIONAL                14285 non-null  object\n",
            " 2   CODIGO_CENTRO                  14285 non-null  int64 \n",
            " 3   NOMBRE_CENTRO                  14285 non-null  object\n",
            " 4   IDENTIFICADOR_UNICO_FICHA      14285 non-null  int64 \n",
            " 5   FECHA_INICIO_FICHA             14285 non-null  object\n",
            " 6   FECHA_TERMINACION_FICHA        14285 non-null  object\n",
            " 7   CODIGO_PROGRAMA                14285 non-null  object\n",
            " 8   VERSION_PROGRAMA               14285 non-null  int64 \n",
            " 9   NOMBRE_PROGRAMA_FORMACION      14285 non-null  object\n",
            " 10  NIVEL_FORMACION                14285 non-null  object\n",
            " 11  MODALIDAD_FORMACION            14285 non-null  object\n",
            " 12  TOTAL_APRENDICES_MATRICULADOS  14285 non-null  int64 \n",
            " 13  DESERTORES_AÑO_ACTUAL          14285 non-null  int64 \n",
            " 14  PERIODO                        14285 non-null  int64 \n",
            "dtypes: int64(7), object(8)\n",
            "memory usage: 1.7+ MB\n",
            "None\n"
          ]
        }
      ]
    },
    {
      "cell_type": "code",
      "source": [
        "#vamos a crear una nueva columna de porcentaje de desercion donde se divide DESERTORES_AÑO_ACTUAL/TOTAL_APRENDICES_MATRICULADOS\n",
        "df_cursos_especiales['TASA_DESERCION'] = (df_cursos_especiales['DESERTORES_AÑO_ACTUAL'] /\n",
        "                                         df_cursos_especiales['TOTAL_APRENDICES_MATRICULADOS']) * 100\n",
        "\n",
        "print (df_cursos_especiales.head())"
      ],
      "metadata": {
        "colab": {
          "base_uri": "https://localhost:8080/"
        },
        "collapsed": true,
        "id": "9gNU7QaHietp",
        "outputId": "0701dda8-7cee-49d2-f61b-a26466258432"
      },
      "execution_count": 7,
      "outputs": [
        {
          "output_type": "stream",
          "name": "stdout",
          "text": [
            "    CODIGO_REGIONAL              NOMBRE_REGIONAL  CODIGO_CENTRO  \\\n",
            "7                13           \"REGIONAL BOLIVAR\"           9304   \n",
            "8                11  \"REGIONAL DISTRITO CAPITAL\"           9405   \n",
            "10                8         \"REGIONAL ATLANTICO\"           9302   \n",
            "17               13           \"REGIONAL BOLIVAR\"           9218   \n",
            "18               11  \"REGIONAL DISTRITO CAPITAL\"           9405   \n",
            "\n",
            "                              NOMBRE_CENTRO  IDENTIFICADOR_UNICO_FICHA  \\\n",
            "7          \"CENTRO DE COMERCIO Y SERVICIOS\"                   12909270   \n",
            "8         \"CENTRO DE SERVICIOS FINANCIEROS\"                   12914465   \n",
            "10         \"CENTRO DE COMERCIO Y SERVICIOS\"                   12918237   \n",
            "17  \"CENTRO PARA LA INDUSTRIA PETROQUIMICA\"                   12910192   \n",
            "18        \"CENTRO DE SERVICIOS FINANCIEROS\"                   12910682   \n",
            "\n",
            "   FECHA_INICIO_FICHA FECHA_TERMINACION_FICHA CODIGO_PROGRAMA  \\\n",
            "7        \"08/02/2024\"            \"06/03/2024\"      \"13410029\"   \n",
            "8        \"19/02/2024\"            \"27/02/2024\"      \"12110081\"   \n",
            "10       \"06/02/2024\"            \"27/02/2024\"      \"63220082\"   \n",
            "17       \"09/02/2024\"            \"13/03/2024\"      \"51240087\"   \n",
            "18       \"09/02/2024\"            \"07/03/2024\"      \"12310175\"   \n",
            "\n",
            "    VERSION_PROGRAMA             NOMBRE_PROGRAMA_FORMACION   NIVEL_FORMACION  \\\n",
            "7                  2  \"ADMINISTRACION DE RECURSOS HUMANOS\"  \"CURSO ESPECIAL\"   \n",
            "8                  1                  \"LIDERAZGO EFECTIVO\"  \"CURSO ESPECIAL\"   \n",
            "10                 1                   \"MERCADEO Y VENTAS\"  \"CURSO ESPECIAL\"   \n",
            "17                 1         \"ENGLISH DOES WORK - LEVEL 1\"  \"CURSO ESPECIAL\"   \n",
            "18                 1                   \"CUENTAS CONTABLES\"  \"CURSO ESPECIAL\"   \n",
            "\n",
            "   MODALIDAD_FORMACION  TOTAL_APRENDICES_MATRICULADOS  DESERTORES_AÑO_ACTUAL  \\\n",
            "7            \"VIRTUAL\"                             80                      1   \n",
            "8         \"PRESENCIAL\"                             25                      0   \n",
            "10        \"PRESENCIAL\"                             24                      0   \n",
            "17           \"VIRTUAL\"                             80                      2   \n",
            "18           \"VIRTUAL\"                             80                      2   \n",
            "\n",
            "    PERIODO  TASA_DESERCION  \n",
            "7    202402            1.25  \n",
            "8    202402            0.00  \n",
            "10   202402            0.00  \n",
            "17   202402            2.50  \n",
            "18   202402            2.50  \n"
          ]
        }
      ]
    },
    {
      "cell_type": "code",
      "source": [
        "#quitarle las comillas al nombre cursos especiales\n",
        "df_cursos_especiales['NIVEL_FORMACION'] = df_cursos_especiales['NIVEL_FORMACION'].str.replace('\"', '')\n",
        "print(df_cursos_especiales.head())"
      ],
      "metadata": {
        "colab": {
          "base_uri": "https://localhost:8080/"
        },
        "collapsed": true,
        "id": "xcq02vSHM8UW",
        "outputId": "c1dc06ea-92f1-4455-d49b-25b38c86999a"
      },
      "execution_count": 8,
      "outputs": [
        {
          "output_type": "stream",
          "name": "stdout",
          "text": [
            "    CODIGO_REGIONAL              NOMBRE_REGIONAL  CODIGO_CENTRO  \\\n",
            "7                13           \"REGIONAL BOLIVAR\"           9304   \n",
            "8                11  \"REGIONAL DISTRITO CAPITAL\"           9405   \n",
            "10                8         \"REGIONAL ATLANTICO\"           9302   \n",
            "17               13           \"REGIONAL BOLIVAR\"           9218   \n",
            "18               11  \"REGIONAL DISTRITO CAPITAL\"           9405   \n",
            "\n",
            "                              NOMBRE_CENTRO  IDENTIFICADOR_UNICO_FICHA  \\\n",
            "7          \"CENTRO DE COMERCIO Y SERVICIOS\"                   12909270   \n",
            "8         \"CENTRO DE SERVICIOS FINANCIEROS\"                   12914465   \n",
            "10         \"CENTRO DE COMERCIO Y SERVICIOS\"                   12918237   \n",
            "17  \"CENTRO PARA LA INDUSTRIA PETROQUIMICA\"                   12910192   \n",
            "18        \"CENTRO DE SERVICIOS FINANCIEROS\"                   12910682   \n",
            "\n",
            "   FECHA_INICIO_FICHA FECHA_TERMINACION_FICHA CODIGO_PROGRAMA  \\\n",
            "7        \"08/02/2024\"            \"06/03/2024\"      \"13410029\"   \n",
            "8        \"19/02/2024\"            \"27/02/2024\"      \"12110081\"   \n",
            "10       \"06/02/2024\"            \"27/02/2024\"      \"63220082\"   \n",
            "17       \"09/02/2024\"            \"13/03/2024\"      \"51240087\"   \n",
            "18       \"09/02/2024\"            \"07/03/2024\"      \"12310175\"   \n",
            "\n",
            "    VERSION_PROGRAMA             NOMBRE_PROGRAMA_FORMACION NIVEL_FORMACION  \\\n",
            "7                  2  \"ADMINISTRACION DE RECURSOS HUMANOS\"  CURSO ESPECIAL   \n",
            "8                  1                  \"LIDERAZGO EFECTIVO\"  CURSO ESPECIAL   \n",
            "10                 1                   \"MERCADEO Y VENTAS\"  CURSO ESPECIAL   \n",
            "17                 1         \"ENGLISH DOES WORK - LEVEL 1\"  CURSO ESPECIAL   \n",
            "18                 1                   \"CUENTAS CONTABLES\"  CURSO ESPECIAL   \n",
            "\n",
            "   MODALIDAD_FORMACION  TOTAL_APRENDICES_MATRICULADOS  DESERTORES_AÑO_ACTUAL  \\\n",
            "7            \"VIRTUAL\"                             80                      1   \n",
            "8         \"PRESENCIAL\"                             25                      0   \n",
            "10        \"PRESENCIAL\"                             24                      0   \n",
            "17           \"VIRTUAL\"                             80                      2   \n",
            "18           \"VIRTUAL\"                             80                      2   \n",
            "\n",
            "    PERIODO  TASA_DESERCION  \n",
            "7    202402            1.25  \n",
            "8    202402            0.00  \n",
            "10   202402            0.00  \n",
            "17   202402            2.50  \n",
            "18   202402            2.50  \n"
          ]
        }
      ]
    },
    {
      "cell_type": "code",
      "source": [
        "#quitarle la comilla a \"VIRTUAL\", \"PRESENCIAL\"\n",
        "df_cursos_especiales['MODALIDAD_FORMACION'] = df_cursos_especiales['MODALIDAD_FORMACION'].str.replace('\"', '')\n",
        "print(df_cursos_especiales.head())\n"
      ],
      "metadata": {
        "colab": {
          "base_uri": "https://localhost:8080/"
        },
        "collapsed": true,
        "id": "DUeNxa7f0Xyr",
        "outputId": "9db355c3-7a9a-4945-a3a5-5a411fe9262f"
      },
      "execution_count": 9,
      "outputs": [
        {
          "output_type": "stream",
          "name": "stdout",
          "text": [
            "    CODIGO_REGIONAL              NOMBRE_REGIONAL  CODIGO_CENTRO  \\\n",
            "7                13           \"REGIONAL BOLIVAR\"           9304   \n",
            "8                11  \"REGIONAL DISTRITO CAPITAL\"           9405   \n",
            "10                8         \"REGIONAL ATLANTICO\"           9302   \n",
            "17               13           \"REGIONAL BOLIVAR\"           9218   \n",
            "18               11  \"REGIONAL DISTRITO CAPITAL\"           9405   \n",
            "\n",
            "                              NOMBRE_CENTRO  IDENTIFICADOR_UNICO_FICHA  \\\n",
            "7          \"CENTRO DE COMERCIO Y SERVICIOS\"                   12909270   \n",
            "8         \"CENTRO DE SERVICIOS FINANCIEROS\"                   12914465   \n",
            "10         \"CENTRO DE COMERCIO Y SERVICIOS\"                   12918237   \n",
            "17  \"CENTRO PARA LA INDUSTRIA PETROQUIMICA\"                   12910192   \n",
            "18        \"CENTRO DE SERVICIOS FINANCIEROS\"                   12910682   \n",
            "\n",
            "   FECHA_INICIO_FICHA FECHA_TERMINACION_FICHA CODIGO_PROGRAMA  \\\n",
            "7        \"08/02/2024\"            \"06/03/2024\"      \"13410029\"   \n",
            "8        \"19/02/2024\"            \"27/02/2024\"      \"12110081\"   \n",
            "10       \"06/02/2024\"            \"27/02/2024\"      \"63220082\"   \n",
            "17       \"09/02/2024\"            \"13/03/2024\"      \"51240087\"   \n",
            "18       \"09/02/2024\"            \"07/03/2024\"      \"12310175\"   \n",
            "\n",
            "    VERSION_PROGRAMA             NOMBRE_PROGRAMA_FORMACION NIVEL_FORMACION  \\\n",
            "7                  2  \"ADMINISTRACION DE RECURSOS HUMANOS\"  CURSO ESPECIAL   \n",
            "8                  1                  \"LIDERAZGO EFECTIVO\"  CURSO ESPECIAL   \n",
            "10                 1                   \"MERCADEO Y VENTAS\"  CURSO ESPECIAL   \n",
            "17                 1         \"ENGLISH DOES WORK - LEVEL 1\"  CURSO ESPECIAL   \n",
            "18                 1                   \"CUENTAS CONTABLES\"  CURSO ESPECIAL   \n",
            "\n",
            "   MODALIDAD_FORMACION  TOTAL_APRENDICES_MATRICULADOS  DESERTORES_AÑO_ACTUAL  \\\n",
            "7              VIRTUAL                             80                      1   \n",
            "8           PRESENCIAL                             25                      0   \n",
            "10          PRESENCIAL                             24                      0   \n",
            "17             VIRTUAL                             80                      2   \n",
            "18             VIRTUAL                             80                      2   \n",
            "\n",
            "    PERIODO  TASA_DESERCION  \n",
            "7    202402            1.25  \n",
            "8    202402            0.00  \n",
            "10   202402            0.00  \n",
            "17   202402            2.50  \n",
            "18   202402            2.50  \n"
          ]
        }
      ]
    },
    {
      "cell_type": "code",
      "source": [
        "#creame un dataframe con las siguientes columnas: NOMBRE_REGIONAL, NOMBRE_CENTRO, FECHA_INICIO_FICHA, FECHA_TERMINACION_FICHA, DURACION_CURSO, NOMBRE_PROGRAMA_FORMACION, NIVEL_FORMACION, MODALIDAD_FORMACION\n",
        "df_modelo = df_cursos_especiales[['NOMBRE_REGIONAL', 'NOMBRE_CENTRO', 'FECHA_INICIO_FICHA', 'FECHA_TERMINACION_FICHA', 'NOMBRE_PROGRAMA_FORMACION', 'NIVEL_FORMACION', 'MODALIDAD_FORMACION']]\n",
        "print(df_modelo.head())\n"
      ],
      "metadata": {
        "id": "dt8EgJZnPzi9",
        "colab": {
          "base_uri": "https://localhost:8080/"
        },
        "collapsed": true,
        "outputId": "bcba6875-47ea-417d-9a92-d766ea423c8a"
      },
      "execution_count": null,
      "outputs": [
        {
          "output_type": "stream",
          "name": "stdout",
          "text": [
            "    NOMBRE_REGIONAL  NOMBRE_CENTRO FECHA_INICIO_FICHA FECHA_TERMINACION_FICHA  \\\n",
            "7                 4             25         2024-02-08              2024-03-06   \n",
            "8                14             70         2024-02-19              2024-02-27   \n",
            "10                3             25         2024-02-06              2024-02-27   \n",
            "17                4             99         2024-02-09              2024-03-13   \n",
            "18               14             70         2024-02-09              2024-03-07   \n",
            "\n",
            "             NOMBRE_PROGRAMA_FORMACION NIVEL_FORMACION MODALIDAD_FORMACION  \n",
            "7   ADMINISTRACION DE RECURSOS HUMANOS  CURSO ESPECIAL             VIRTUAL  \n",
            "8                   LIDERAZGO EFECTIVO  CURSO ESPECIAL          PRESENCIAL  \n",
            "10                   MERCADEO Y VENTAS  CURSO ESPECIAL          PRESENCIAL  \n",
            "17         ENGLISH DOES WORK - LEVEL 1  CURSO ESPECIAL             VIRTUAL  \n",
            "18                   CUENTAS CONTABLES  CURSO ESPECIAL             VIRTUAL  \n"
          ]
        }
      ]
    },
    {
      "cell_type": "code",
      "source": [
        "#QUITARLE LAS COMillas a toda las filas NOMBRE_PROGRAMA_FORMACION,\n",
        "\n",
        "df_cursos_especiales['NOMBRE_PROGRAMA_FORMACION'] = df_cursos_especiales['NOMBRE_PROGRAMA_FORMACION'].str.replace('\"', '')\n",
        "print(df_cursos_especiales.head())"
      ],
      "metadata": {
        "collapsed": true,
        "colab": {
          "base_uri": "https://localhost:8080/"
        },
        "id": "C09HBmyp2oWX",
        "outputId": "d7b255a9-fa78-4a81-b755-256d43caceec"
      },
      "execution_count": 11,
      "outputs": [
        {
          "output_type": "stream",
          "name": "stdout",
          "text": [
            "    CODIGO_REGIONAL              NOMBRE_REGIONAL  CODIGO_CENTRO  \\\n",
            "7                13           \"REGIONAL BOLIVAR\"           9304   \n",
            "8                11  \"REGIONAL DISTRITO CAPITAL\"           9405   \n",
            "10                8         \"REGIONAL ATLANTICO\"           9302   \n",
            "17               13           \"REGIONAL BOLIVAR\"           9218   \n",
            "18               11  \"REGIONAL DISTRITO CAPITAL\"           9405   \n",
            "\n",
            "                              NOMBRE_CENTRO  IDENTIFICADOR_UNICO_FICHA  \\\n",
            "7          \"CENTRO DE COMERCIO Y SERVICIOS\"                   12909270   \n",
            "8         \"CENTRO DE SERVICIOS FINANCIEROS\"                   12914465   \n",
            "10         \"CENTRO DE COMERCIO Y SERVICIOS\"                   12918237   \n",
            "17  \"CENTRO PARA LA INDUSTRIA PETROQUIMICA\"                   12910192   \n",
            "18        \"CENTRO DE SERVICIOS FINANCIEROS\"                   12910682   \n",
            "\n",
            "   FECHA_INICIO_FICHA FECHA_TERMINACION_FICHA CODIGO_PROGRAMA  \\\n",
            "7        \"08/02/2024\"            \"06/03/2024\"      \"13410029\"   \n",
            "8        \"19/02/2024\"            \"27/02/2024\"      \"12110081\"   \n",
            "10       \"06/02/2024\"            \"27/02/2024\"      \"63220082\"   \n",
            "17       \"09/02/2024\"            \"13/03/2024\"      \"51240087\"   \n",
            "18       \"09/02/2024\"            \"07/03/2024\"      \"12310175\"   \n",
            "\n",
            "    VERSION_PROGRAMA           NOMBRE_PROGRAMA_FORMACION NIVEL_FORMACION  \\\n",
            "7                  2  ADMINISTRACION DE RECURSOS HUMANOS  CURSO ESPECIAL   \n",
            "8                  1                  LIDERAZGO EFECTIVO  CURSO ESPECIAL   \n",
            "10                 1                   MERCADEO Y VENTAS  CURSO ESPECIAL   \n",
            "17                 1         ENGLISH DOES WORK - LEVEL 1  CURSO ESPECIAL   \n",
            "18                 1                   CUENTAS CONTABLES  CURSO ESPECIAL   \n",
            "\n",
            "   MODALIDAD_FORMACION  TOTAL_APRENDICES_MATRICULADOS  DESERTORES_AÑO_ACTUAL  \\\n",
            "7              VIRTUAL                             80                      1   \n",
            "8           PRESENCIAL                             25                      0   \n",
            "10          PRESENCIAL                             24                      0   \n",
            "17             VIRTUAL                             80                      2   \n",
            "18             VIRTUAL                             80                      2   \n",
            "\n",
            "    PERIODO  TASA_DESERCION  \n",
            "7    202402            1.25  \n",
            "8    202402            0.00  \n",
            "10   202402            0.00  \n",
            "17   202402            2.50  \n",
            "18   202402            2.50  \n"
          ]
        }
      ]
    },
    {
      "cell_type": "markdown",
      "source": [],
      "metadata": {
        "id": "8a960wJS51Lk"
      }
    },
    {
      "cell_type": "code",
      "source": [
        "#tenemos que convertir las fechas al formato datatime las columnas involucradas son: FECHA_INICIO_FICHA\n",
        "# Remove extra double quotes before converting to datetime\n",
        "# Check if the column is already datetime, if not, convert\n",
        "if not pd.api.types.is_datetime64_any_dtype(df_cursos_especiales['FECHA_INICIO_FICHA']):\n",
        "    df_cursos_especiales['FECHA_INICIO_FICHA'] = df_cursos_especiales['FECHA_INICIO_FICHA'].astype(str).str.replace('\"', '')\n",
        "    df_cursos_especiales['FECHA_INICIO_FICHA'] = pd.to_datetime(df_cursos_especiales['FECHA_INICIO_FICHA'], format='%d/%m/%Y', errors='coerce')\n",
        "\n",
        "# Check if the column is already datetime, if not, convert\n",
        "if not pd.api.types.is_datetime64_any_dtype(df_cursos_especiales['FECHA_TERMINACION_FICHA']):\n",
        "    df_cursos_especiales['FECHA_TERMINACION_FICHA'] = df_cursos_especiales['FECHA_TERMINACION_FICHA'].astype(str).str.replace('\"', '')\n",
        "    df_cursos_especiales['FECHA_TERMINACION_FICHA'] = pd.to_datetime(df_cursos_especiales['FECHA_TERMINACION_FICHA'], format='%d/%m/%Y', errors='coerce')\n",
        "print(df_cursos_especiales.head())\n",
        "print(df_cursos_especiales.info())"
      ],
      "metadata": {
        "colab": {
          "base_uri": "https://localhost:8080/"
        },
        "collapsed": true,
        "id": "I_9Tnq9yMu47",
        "outputId": "6b906543-3781-4e83-cee4-4e5b1e41c271"
      },
      "execution_count": 15,
      "outputs": [
        {
          "output_type": "stream",
          "name": "stdout",
          "text": [
            "    CODIGO_REGIONAL              NOMBRE_REGIONAL  CODIGO_CENTRO  \\\n",
            "7                13           \"REGIONAL BOLIVAR\"           9304   \n",
            "8                11  \"REGIONAL DISTRITO CAPITAL\"           9405   \n",
            "10                8         \"REGIONAL ATLANTICO\"           9302   \n",
            "17               13           \"REGIONAL BOLIVAR\"           9218   \n",
            "18               11  \"REGIONAL DISTRITO CAPITAL\"           9405   \n",
            "\n",
            "                              NOMBRE_CENTRO  IDENTIFICADOR_UNICO_FICHA  \\\n",
            "7          \"CENTRO DE COMERCIO Y SERVICIOS\"                   12909270   \n",
            "8         \"CENTRO DE SERVICIOS FINANCIEROS\"                   12914465   \n",
            "10         \"CENTRO DE COMERCIO Y SERVICIOS\"                   12918237   \n",
            "17  \"CENTRO PARA LA INDUSTRIA PETROQUIMICA\"                   12910192   \n",
            "18        \"CENTRO DE SERVICIOS FINANCIEROS\"                   12910682   \n",
            "\n",
            "   FECHA_INICIO_FICHA FECHA_TERMINACION_FICHA CODIGO_PROGRAMA  \\\n",
            "7          2024-02-08              2024-03-06      \"13410029\"   \n",
            "8          2024-02-19              2024-02-27      \"12110081\"   \n",
            "10         2024-02-06              2024-02-27      \"63220082\"   \n",
            "17         2024-02-09              2024-03-13      \"51240087\"   \n",
            "18         2024-02-09              2024-03-07      \"12310175\"   \n",
            "\n",
            "    VERSION_PROGRAMA           NOMBRE_PROGRAMA_FORMACION NIVEL_FORMACION  \\\n",
            "7                  2  ADMINISTRACION DE RECURSOS HUMANOS  CURSO ESPECIAL   \n",
            "8                  1                  LIDERAZGO EFECTIVO  CURSO ESPECIAL   \n",
            "10                 1                   MERCADEO Y VENTAS  CURSO ESPECIAL   \n",
            "17                 1         ENGLISH DOES WORK - LEVEL 1  CURSO ESPECIAL   \n",
            "18                 1                   CUENTAS CONTABLES  CURSO ESPECIAL   \n",
            "\n",
            "   MODALIDAD_FORMACION  TOTAL_APRENDICES_MATRICULADOS  DESERTORES_AÑO_ACTUAL  \\\n",
            "7              VIRTUAL                             80                      1   \n",
            "8           PRESENCIAL                             25                      0   \n",
            "10          PRESENCIAL                             24                      0   \n",
            "17             VIRTUAL                             80                      2   \n",
            "18             VIRTUAL                             80                      2   \n",
            "\n",
            "    PERIODO  TASA_DESERCION  \n",
            "7    202402            1.25  \n",
            "8    202402            0.00  \n",
            "10   202402            0.00  \n",
            "17   202402            2.50  \n",
            "18   202402            2.50  \n",
            "<class 'pandas.core.frame.DataFrame'>\n",
            "Index: 14285 entries, 7 to 42077\n",
            "Data columns (total 16 columns):\n",
            " #   Column                         Non-Null Count  Dtype         \n",
            "---  ------                         --------------  -----         \n",
            " 0   CODIGO_REGIONAL                14285 non-null  int64         \n",
            " 1   NOMBRE_REGIONAL                14285 non-null  object        \n",
            " 2   CODIGO_CENTRO                  14285 non-null  int64         \n",
            " 3   NOMBRE_CENTRO                  14285 non-null  object        \n",
            " 4   IDENTIFICADOR_UNICO_FICHA      14285 non-null  int64         \n",
            " 5   FECHA_INICIO_FICHA             14285 non-null  datetime64[ns]\n",
            " 6   FECHA_TERMINACION_FICHA        14285 non-null  datetime64[ns]\n",
            " 7   CODIGO_PROGRAMA                14285 non-null  object        \n",
            " 8   VERSION_PROGRAMA               14285 non-null  int64         \n",
            " 9   NOMBRE_PROGRAMA_FORMACION      14285 non-null  object        \n",
            " 10  NIVEL_FORMACION                14285 non-null  object        \n",
            " 11  MODALIDAD_FORMACION            14285 non-null  object        \n",
            " 12  TOTAL_APRENDICES_MATRICULADOS  14285 non-null  int64         \n",
            " 13  DESERTORES_AÑO_ACTUAL          14285 non-null  int64         \n",
            " 14  PERIODO                        14285 non-null  int64         \n",
            " 15  TASA_DESERCION                 14285 non-null  float64       \n",
            "dtypes: datetime64[ns](2), float64(1), int64(7), object(6)\n",
            "memory usage: 1.9+ MB\n",
            "None\n"
          ]
        }
      ]
    },
    {
      "cell_type": "code",
      "source": [
        "# Transforma categóricas a numéricas NOMBRE_REGIONAL, NOMBRE_CENTRO, CODIGO_PROGRAMA, NOMBRE_PROGRAMA_FORMACION, NIVEL_FORMACION, MODALIDAD_FORMACION) aplicando One-Hot Encoding para variables nominales y\n",
        "# Label Encoding para variables ordinales\n",
        "from sklearn.preprocessing import OneHotEncoder, LabelEncoder\n",
        "le = LabelEncoder()\n",
        "df_cursos_especiales['NOMBRE_REGIONAL'] = le.fit_transform(df_cursos_especiales['NOMBRE_REGIONAL'])\n",
        "# df_cursos  <- This line was causing the error. Changed to df_cursos_especiales\n",
        "print(df_cursos_especiales.head()) # Now printing the correct DataFrame"
      ],
      "metadata": {
        "colab": {
          "base_uri": "https://localhost:8080/"
        },
        "id": "-H8G3WKR-o_E",
        "outputId": "a49545c1-8dd7-467b-845e-56dc6d494be0"
      },
      "execution_count": 18,
      "outputs": [
        {
          "output_type": "stream",
          "name": "stdout",
          "text": [
            "    CODIGO_REGIONAL  NOMBRE_REGIONAL  CODIGO_CENTRO  NOMBRE_CENTRO  \\\n",
            "7                13                4           9304             24   \n",
            "8                11               14           9405             70   \n",
            "10                8                3           9302             24   \n",
            "17               13                4           9218             99   \n",
            "18               11               14           9405             70   \n",
            "\n",
            "    IDENTIFICADOR_UNICO_FICHA FECHA_INICIO_FICHA FECHA_TERMINACION_FICHA  \\\n",
            "7                    12909270         2024-02-08              2024-03-06   \n",
            "8                    12914465         2024-02-19              2024-02-27   \n",
            "10                   12918237         2024-02-06              2024-02-27   \n",
            "17                   12910192         2024-02-09              2024-03-13   \n",
            "18                   12910682         2024-02-09              2024-03-07   \n",
            "\n",
            "   CODIGO_PROGRAMA  VERSION_PROGRAMA           NOMBRE_PROGRAMA_FORMACION  \\\n",
            "7       \"13410029\"                 2  ADMINISTRACION DE RECURSOS HUMANOS   \n",
            "8       \"12110081\"                 1                  LIDERAZGO EFECTIVO   \n",
            "10      \"63220082\"                 1                   MERCADEO Y VENTAS   \n",
            "17      \"51240087\"                 1         ENGLISH DOES WORK - LEVEL 1   \n",
            "18      \"12310175\"                 1                   CUENTAS CONTABLES   \n",
            "\n",
            "   NIVEL_FORMACION MODALIDAD_FORMACION  TOTAL_APRENDICES_MATRICULADOS  \\\n",
            "7   CURSO ESPECIAL             VIRTUAL                             80   \n",
            "8   CURSO ESPECIAL          PRESENCIAL                             25   \n",
            "10  CURSO ESPECIAL          PRESENCIAL                             24   \n",
            "17  CURSO ESPECIAL             VIRTUAL                             80   \n",
            "18  CURSO ESPECIAL             VIRTUAL                             80   \n",
            "\n",
            "    DESERTORES_AÑO_ACTUAL  PERIODO  TASA_DESERCION  \n",
            "7                       1   202402            1.25  \n",
            "8                       0   202402            0.00  \n",
            "10                      0   202402            0.00  \n",
            "17                      2   202402            2.50  \n",
            "18                      2   202402            2.50  \n"
          ]
        }
      ]
    },
    {
      "cell_type": "code",
      "source": [
        "df_modelo = df_cursos_especiales[['NOMBRE_REGIONAL', 'NOMBRE_CENTRO', 'FECHA_INICIO_FICHA', 'FECHA_TERMINACION_FICHA', 'NOMBRE_PROGRAMA_FORMACION', 'NIVEL_FORMACION', 'MODALIDAD_FORMACION']]"
      ],
      "metadata": {
        "id": "P3sCxJSS0q_O"
      },
      "execution_count": 20,
      "outputs": []
    },
    {
      "cell_type": "code",
      "source": [
        "#empezamos a eliminar valores nulos\n",
        "df_modelo.isnull().sum()\n",
        "print(df_modelo.head())"
      ],
      "metadata": {
        "colab": {
          "base_uri": "https://localhost:8080/"
        },
        "outputId": "6e6c70a0-dbff-4e2b-94ca-6986f33ed8be",
        "id": "7KjTxdB20izW"
      },
      "execution_count": null,
      "outputs": [
        {
          "output_type": "stream",
          "name": "stdout",
          "text": [
            "    NOMBRE_REGIONAL  NOMBRE_CENTRO FECHA_INICIO_FICHA FECHA_TERMINACION_FICHA  \\\n",
            "7                 4             24         2024-02-08              2024-03-06   \n",
            "8                14             70         2024-02-19              2024-02-27   \n",
            "10                3             24         2024-02-06              2024-02-27   \n",
            "17                4             99         2024-02-09              2024-03-13   \n",
            "18               14             70         2024-02-09              2024-03-07   \n",
            "\n",
            "   DURACION_CURSO             NOMBRE_PROGRAMA_FORMACION NIVEL_FORMACION  \\\n",
            "7         27 days  \"ADMINISTRACION DE RECURSOS HUMANOS\"  CURSO ESPECIAL   \n",
            "8          8 days                  \"LIDERAZGO EFECTIVO\"  CURSO ESPECIAL   \n",
            "10        21 days                   \"MERCADEO Y VENTAS\"  CURSO ESPECIAL   \n",
            "17        33 days         \"ENGLISH DOES WORK - LEVEL 1\"  CURSO ESPECIAL   \n",
            "18        27 days                   \"CUENTAS CONTABLES\"  CURSO ESPECIAL   \n",
            "\n",
            "   MODALIDAD_FORMACION  TASA_DESERCION  \n",
            "7            \"VIRTUAL\"            1.25  \n",
            "8         \"PRESENCIAL\"            0.00  \n",
            "10        \"PRESENCIAL\"            0.00  \n",
            "17           \"VIRTUAL\"            2.50  \n",
            "18           \"VIRTUAL\"            2.50  \n"
          ]
        }
      ]
    },
    {
      "cell_type": "code",
      "source": [
        "#necesito crear una nueva columna para colocar la duracion del curso especial donde se resta la fecha de terminacion ficha menos fecha de inicio ficha\n",
        "df_cursos_especiales['DURACION_CURSO'] = df_cursos_especiales['FECHA_TERMINACION_FICHA'] - df_cursos_especiales['FECHA_INICIO_FICHA']\n",
        "print(df_cursos_especiales.head())"
      ],
      "metadata": {
        "colab": {
          "base_uri": "https://localhost:8080/"
        },
        "collapsed": true,
        "id": "cUsWlC5RPcUM",
        "outputId": "46aa78d5-c6db-48a9-ce70-b5569ead7df6"
      },
      "execution_count": 21,
      "outputs": [
        {
          "output_type": "stream",
          "name": "stdout",
          "text": [
            "    CODIGO_REGIONAL  NOMBRE_REGIONAL  CODIGO_CENTRO  NOMBRE_CENTRO  \\\n",
            "7                13                4           9304             24   \n",
            "8                11               14           9405             70   \n",
            "10                8                3           9302             24   \n",
            "17               13                4           9218             99   \n",
            "18               11               14           9405             70   \n",
            "\n",
            "    IDENTIFICADOR_UNICO_FICHA FECHA_INICIO_FICHA FECHA_TERMINACION_FICHA  \\\n",
            "7                    12909270         2024-02-08              2024-03-06   \n",
            "8                    12914465         2024-02-19              2024-02-27   \n",
            "10                   12918237         2024-02-06              2024-02-27   \n",
            "17                   12910192         2024-02-09              2024-03-13   \n",
            "18                   12910682         2024-02-09              2024-03-07   \n",
            "\n",
            "   CODIGO_PROGRAMA  VERSION_PROGRAMA           NOMBRE_PROGRAMA_FORMACION  \\\n",
            "7       \"13410029\"                 2  ADMINISTRACION DE RECURSOS HUMANOS   \n",
            "8       \"12110081\"                 1                  LIDERAZGO EFECTIVO   \n",
            "10      \"63220082\"                 1                   MERCADEO Y VENTAS   \n",
            "17      \"51240087\"                 1         ENGLISH DOES WORK - LEVEL 1   \n",
            "18      \"12310175\"                 1                   CUENTAS CONTABLES   \n",
            "\n",
            "   NIVEL_FORMACION MODALIDAD_FORMACION  TOTAL_APRENDICES_MATRICULADOS  \\\n",
            "7   CURSO ESPECIAL             VIRTUAL                             80   \n",
            "8   CURSO ESPECIAL          PRESENCIAL                             25   \n",
            "10  CURSO ESPECIAL          PRESENCIAL                             24   \n",
            "17  CURSO ESPECIAL             VIRTUAL                             80   \n",
            "18  CURSO ESPECIAL             VIRTUAL                             80   \n",
            "\n",
            "    DESERTORES_AÑO_ACTUAL  PERIODO  TASA_DESERCION DURACION_CURSO  \n",
            "7                       1   202402            1.25        27 days  \n",
            "8                       0   202402            0.00         8 days  \n",
            "10                      0   202402            0.00        21 days  \n",
            "17                      2   202402            2.50        33 days  \n",
            "18                      2   202402            2.50        27 days  \n"
          ]
        }
      ]
    },
    {
      "cell_type": "code",
      "source": [
        "#seleccionar las variables predictorias para el modelo de regresion lineal, las variables son: NOMBRE_REGIONAL;  NOMBRE_CENTRO, FECHA_INICIO_FICHA, FECHA_TERMINACION_FICHA, DURACION_CURSO, NOMBRE_PROGRAMA_FORMACION, NIVEL_FORMACION, MODALIDAD_FORMACION\n",
        "# Instead of using df_modelo, use df_cursos_especiales since it contains 'DURACION_CURSO' column\n",
        "X = df_cursos_especiales[['NOMBRE_REGIONAL', 'NOMBRE_CENTRO', 'FECHA_INICIO_FICHA', 'FECHA_TERMINACION_FICHA', 'DURACION_CURSO', 'NOMBRE_PROGRAMA_FORMACION', 'NIVEL_FORMACION', 'MODALIDAD_FORMACION']]\n",
        "print(X.head())\n"
      ],
      "metadata": {
        "colab": {
          "base_uri": "https://localhost:8080/"
        },
        "id": "i1Sup7XYnTQV",
        "outputId": "2e63b3ac-11ce-429b-925a-3947f673810b",
        "collapsed": true
      },
      "execution_count": 24,
      "outputs": [
        {
          "output_type": "stream",
          "name": "stdout",
          "text": [
            "    NOMBRE_REGIONAL  NOMBRE_CENTRO FECHA_INICIO_FICHA FECHA_TERMINACION_FICHA  \\\n",
            "7                 4             24         2024-02-08              2024-03-06   \n",
            "8                14             70         2024-02-19              2024-02-27   \n",
            "10                3             24         2024-02-06              2024-02-27   \n",
            "17                4             99         2024-02-09              2024-03-13   \n",
            "18               14             70         2024-02-09              2024-03-07   \n",
            "\n",
            "   DURACION_CURSO           NOMBRE_PROGRAMA_FORMACION NIVEL_FORMACION  \\\n",
            "7         27 days  ADMINISTRACION DE RECURSOS HUMANOS  CURSO ESPECIAL   \n",
            "8          8 days                  LIDERAZGO EFECTIVO  CURSO ESPECIAL   \n",
            "10        21 days                   MERCADEO Y VENTAS  CURSO ESPECIAL   \n",
            "17        33 days         ENGLISH DOES WORK - LEVEL 1  CURSO ESPECIAL   \n",
            "18        27 days                   CUENTAS CONTABLES  CURSO ESPECIAL   \n",
            "\n",
            "   MODALIDAD_FORMACION  \n",
            "7              VIRTUAL  \n",
            "8           PRESENCIAL  \n",
            "10          PRESENCIAL  \n",
            "17             VIRTUAL  \n",
            "18             VIRTUAL  \n"
          ]
        }
      ]
    },
    {
      "cell_type": "code",
      "source": [
        "# División en conjuntos de entrenamiento y prueba (80% train, 20% test)\n",
        "X_train, X_test, y_train, y_test = train_test_split(X, y, test_size=0.2, random_state=42)\n",
        "print(X_train.head())\n",
        "print(y_train.head())\n"
      ],
      "metadata": {
        "colab": {
          "base_uri": "https://localhost:8080/"
        },
        "id": "FzEkcYHJC-gY",
        "outputId": "e7b107a2-0140-4bd8-a3a0-8bfc84dd4ff5"
      },
      "execution_count": 36,
      "outputs": [
        {
          "output_type": "stream",
          "name": "stdout",
          "text": [
            "       CODIGO_REGIONAL  NOMBRE_REGIONAL  CODIGO_CENTRO  NOMBRE_CENTRO  \\\n",
            "32821               88               26           9539             44   \n",
            "15986               25               13           9512             22   \n",
            "19372               17                6           9220             65   \n",
            "21434               76               30           9230             90   \n",
            "5105                20               10           9521             64   \n",
            "\n",
            "      MODALIDAD_FORMACION  TOTAL_APRENDICES_MATRICULADOS  PERIODO  \n",
            "32821             VIRTUAL                             80   202402  \n",
            "15986             VIRTUAL                             80   202402  \n",
            "19372             VIRTUAL                             80   202402  \n",
            "21434             VIRTUAL                             80   202402  \n",
            "5105           PRESENCIAL                             30   202402  \n",
            "32821    0.0\n",
            "15986    0.0\n",
            "19372    2.5\n",
            "21434    2.5\n",
            "5105     0.0\n",
            "Name: TASA_DESERCION, dtype: float64\n"
          ]
        }
      ]
    },
    {
      "cell_type": "code",
      "source": [
        "# Crear y entrenar el modelo de regresión lineal\n",
        "# (Aunque ya codificaste manualmente, es mejor usar OneHotEncoder para asegurar consistencia)\n",
        "# Identificar columnas categóricas (aunque ya están codificadas)\n",
        "categorical_features = ['MODALIDAD_FORMACION']  # Solo esta es categórica (las otras ya están como números)\n",
        "numeric_features = ['NOMBRE_REGIONAL', 'NOMBRE_CENTRO', 'TOTAL_APRENDICES_MATRICULADOS', 'PERIODO']\n",
        "print(X_train.head())\n",
        "print(y_train.head())\n",
        "print(categorical_features)\n",
        "print(numeric_features)\n",
        "print(X_train.info())\n",
        "print(y_train.info())\n",
        "print(df_cursos_especiales.info())\n",
        "print(df_cursos_especiales.head())\n",
        "print(df_cursos_especiales.describe())\n",
        "\n",
        "\n",
        "\n"
      ],
      "metadata": {
        "colab": {
          "base_uri": "https://localhost:8080/"
        },
        "id": "YB1IsdRCDIHp",
        "outputId": "e06cee36-5769-42ac-8da8-2e9738a1cbf8"
      },
      "execution_count": 37,
      "outputs": [
        {
          "output_type": "stream",
          "name": "stdout",
          "text": [
            "       CODIGO_REGIONAL  NOMBRE_REGIONAL  CODIGO_CENTRO  NOMBRE_CENTRO  \\\n",
            "32821               88               26           9539             44   \n",
            "15986               25               13           9512             22   \n",
            "19372               17                6           9220             65   \n",
            "21434               76               30           9230             90   \n",
            "5105                20               10           9521             64   \n",
            "\n",
            "      MODALIDAD_FORMACION  TOTAL_APRENDICES_MATRICULADOS  PERIODO  \n",
            "32821             VIRTUAL                             80   202402  \n",
            "15986             VIRTUAL                             80   202402  \n",
            "19372             VIRTUAL                             80   202402  \n",
            "21434             VIRTUAL                             80   202402  \n",
            "5105           PRESENCIAL                             30   202402  \n",
            "32821    0.0\n",
            "15986    0.0\n",
            "19372    2.5\n",
            "21434    2.5\n",
            "5105     0.0\n",
            "Name: TASA_DESERCION, dtype: float64\n",
            "['MODALIDAD_FORMACION']\n",
            "['NOMBRE_REGIONAL', 'NOMBRE_CENTRO', 'TOTAL_APRENDICES_MATRICULADOS', 'PERIODO']\n",
            "<class 'pandas.core.frame.DataFrame'>\n",
            "Index: 11428 entries, 32821 to 21723\n",
            "Data columns (total 7 columns):\n",
            " #   Column                         Non-Null Count  Dtype \n",
            "---  ------                         --------------  ----- \n",
            " 0   CODIGO_REGIONAL                11428 non-null  int64 \n",
            " 1   NOMBRE_REGIONAL                11428 non-null  int64 \n",
            " 2   CODIGO_CENTRO                  11428 non-null  int64 \n",
            " 3   NOMBRE_CENTRO                  11428 non-null  int64 \n",
            " 4   MODALIDAD_FORMACION            11428 non-null  object\n",
            " 5   TOTAL_APRENDICES_MATRICULADOS  11428 non-null  int64 \n",
            " 6   PERIODO                        11428 non-null  int64 \n",
            "dtypes: int64(6), object(1)\n",
            "memory usage: 714.2+ KB\n",
            "None\n",
            "<class 'pandas.core.series.Series'>\n",
            "Index: 11428 entries, 32821 to 21723\n",
            "Series name: TASA_DESERCION\n",
            "Non-Null Count  Dtype  \n",
            "--------------  -----  \n",
            "11428 non-null  float64\n",
            "dtypes: float64(1)\n",
            "memory usage: 178.6 KB\n",
            "None\n",
            "<class 'pandas.core.frame.DataFrame'>\n",
            "Index: 14285 entries, 7 to 42077\n",
            "Data columns (total 17 columns):\n",
            " #   Column                         Non-Null Count  Dtype          \n",
            "---  ------                         --------------  -----          \n",
            " 0   CODIGO_REGIONAL                14285 non-null  int64          \n",
            " 1   NOMBRE_REGIONAL                14285 non-null  int64          \n",
            " 2   CODIGO_CENTRO                  14285 non-null  int64          \n",
            " 3   NOMBRE_CENTRO                  14285 non-null  int64          \n",
            " 4   IDENTIFICADOR_UNICO_FICHA      14285 non-null  int64          \n",
            " 5   FECHA_INICIO_FICHA             14285 non-null  datetime64[ns] \n",
            " 6   FECHA_TERMINACION_FICHA        14285 non-null  datetime64[ns] \n",
            " 7   CODIGO_PROGRAMA                14285 non-null  object         \n",
            " 8   VERSION_PROGRAMA               14285 non-null  int64          \n",
            " 9   NOMBRE_PROGRAMA_FORMACION      14285 non-null  object         \n",
            " 10  NIVEL_FORMACION                14285 non-null  object         \n",
            " 11  MODALIDAD_FORMACION            14285 non-null  object         \n",
            " 12  TOTAL_APRENDICES_MATRICULADOS  14285 non-null  int64          \n",
            " 13  DESERTORES_AÑO_ACTUAL          14285 non-null  int64          \n",
            " 14  PERIODO                        14285 non-null  int64          \n",
            " 15  TASA_DESERCION                 14285 non-null  float64        \n",
            " 16  DURACION_CURSO                 14285 non-null  timedelta64[ns]\n",
            "dtypes: datetime64[ns](2), float64(1), int64(9), object(4), timedelta64[ns](1)\n",
            "memory usage: 2.0+ MB\n",
            "None\n",
            "    CODIGO_REGIONAL  NOMBRE_REGIONAL  CODIGO_CENTRO  NOMBRE_CENTRO  \\\n",
            "7                13                4           9304             24   \n",
            "8                11               14           9405             70   \n",
            "10                8                3           9302             24   \n",
            "17               13                4           9218             99   \n",
            "18               11               14           9405             70   \n",
            "\n",
            "    IDENTIFICADOR_UNICO_FICHA FECHA_INICIO_FICHA FECHA_TERMINACION_FICHA  \\\n",
            "7                    12909270         2024-02-08              2024-03-06   \n",
            "8                    12914465         2024-02-19              2024-02-27   \n",
            "10                   12918237         2024-02-06              2024-02-27   \n",
            "17                   12910192         2024-02-09              2024-03-13   \n",
            "18                   12910682         2024-02-09              2024-03-07   \n",
            "\n",
            "   CODIGO_PROGRAMA  VERSION_PROGRAMA           NOMBRE_PROGRAMA_FORMACION  \\\n",
            "7       \"13410029\"                 2  ADMINISTRACION DE RECURSOS HUMANOS   \n",
            "8       \"12110081\"                 1                  LIDERAZGO EFECTIVO   \n",
            "10      \"63220082\"                 1                   MERCADEO Y VENTAS   \n",
            "17      \"51240087\"                 1         ENGLISH DOES WORK - LEVEL 1   \n",
            "18      \"12310175\"                 1                   CUENTAS CONTABLES   \n",
            "\n",
            "   NIVEL_FORMACION MODALIDAD_FORMACION  TOTAL_APRENDICES_MATRICULADOS  \\\n",
            "7   CURSO ESPECIAL             VIRTUAL                             80   \n",
            "8   CURSO ESPECIAL          PRESENCIAL                             25   \n",
            "10  CURSO ESPECIAL          PRESENCIAL                             24   \n",
            "17  CURSO ESPECIAL             VIRTUAL                             80   \n",
            "18  CURSO ESPECIAL             VIRTUAL                             80   \n",
            "\n",
            "    DESERTORES_AÑO_ACTUAL  PERIODO  TASA_DESERCION DURACION_CURSO  \n",
            "7                       1   202402            1.25        27 days  \n",
            "8                       0   202402            0.00         8 days  \n",
            "10                      0   202402            0.00        21 days  \n",
            "17                      2   202402            2.50        33 days  \n",
            "18                      2   202402            2.50        27 days  \n",
            "       CODIGO_REGIONAL  NOMBRE_REGIONAL  CODIGO_CENTRO  NOMBRE_CENTRO  \\\n",
            "count     14285.000000     14285.000000   14285.000000   14285.000000   \n",
            "mean         39.257963        15.485544    9321.535807      51.735457   \n",
            "min           5.000000         0.000000    9101.000000       0.000000   \n",
            "25%          11.000000         5.000000    9207.000000      24.000000   \n",
            "50%          25.000000        14.000000    9302.000000      48.000000   \n",
            "75%          68.000000        26.000000    9515.000000      80.000000   \n",
            "max          99.000000        32.000000    9549.000000     108.000000   \n",
            "std          29.437362        10.210149     161.532693      30.752532   \n",
            "\n",
            "       IDENTIFICADOR_UNICO_FICHA             FECHA_INICIO_FICHA  \\\n",
            "count               1.428500e+04                          14285   \n",
            "mean                1.291529e+07  2024-02-14 23:26:38.011900672   \n",
            "min                 1.285512e+07            2023-09-27 00:00:00   \n",
            "25%                 1.290863e+07            2024-02-08 00:00:00   \n",
            "50%                 1.291432e+07            2024-02-15 00:00:00   \n",
            "75%                 1.292141e+07            2024-02-23 00:00:00   \n",
            "max                 1.293324e+07            2024-02-28 00:00:00   \n",
            "std                 7.885551e+03                            NaN   \n",
            "\n",
            "             FECHA_TERMINACION_FICHA  VERSION_PROGRAMA  \\\n",
            "count                          14285      14285.000000   \n",
            "mean   2024-03-19 19:01:00.735036672          1.267623   \n",
            "min              2024-01-24 00:00:00          1.000000   \n",
            "25%              2024-03-01 00:00:00          1.000000   \n",
            "50%              2024-03-11 00:00:00          1.000000   \n",
            "75%              2024-03-28 00:00:00          1.000000   \n",
            "max              2024-12-20 00:00:00          5.000000   \n",
            "std                              NaN          0.575196   \n",
            "\n",
            "       TOTAL_APRENDICES_MATRICULADOS  DESERTORES_AÑO_ACTUAL   PERIODO  \\\n",
            "count                   14285.000000           14285.000000   14285.0   \n",
            "mean                       50.341477               2.695345  202402.0   \n",
            "min                         1.000000               0.000000  202402.0   \n",
            "25%                        25.000000               0.000000  202402.0   \n",
            "50%                        34.000000               0.000000  202402.0   \n",
            "75%                        80.000000               1.000000  202402.0   \n",
            "max                       176.000000              78.000000  202402.0   \n",
            "std                        27.916330              10.540610       0.0   \n",
            "\n",
            "       TASA_DESERCION              DURACION_CURSO  \n",
            "count    14285.000000                       14285  \n",
            "mean         3.978606  33 days 19:34:22.723136157  \n",
            "min          0.000000             0 days 00:00:00  \n",
            "25%          0.000000            16 days 00:00:00  \n",
            "50%          0.000000            27 days 00:00:00  \n",
            "75%          1.250000            33 days 00:00:00  \n",
            "max         97.500000           314 days 00:00:00  \n",
            "std         14.022513  38 days 15:46:53.821250855  \n"
          ]
        }
      ]
    },
    {
      "cell_type": "markdown",
      "source": [
        "vamos por aqui"
      ],
      "metadata": {
        "id": "2lyjzuMqDfho"
      }
    },
    {
      "cell_type": "code",
      "source": [
        "# Import the necessary class\n",
        "from sklearn.compose import ColumnTransformer\n",
        "from sklearn.preprocessing import OneHotEncoder\n",
        "\n",
        "# Crear transformadores para las columnas\n",
        "preprocessor = ColumnTransformer(\n",
        "    transformers=[\n",
        "        ('num', 'passthrough', numeric_features),\n",
        "        ('cat', OneHotEncoder(), categorical_features)\n",
        "    ])\n",
        "print(preprocessor)\n",
        "print(X_train.head())\n",
        "print(y_train.head())"
      ],
      "metadata": {
        "colab": {
          "base_uri": "https://localhost:8080/"
        },
        "collapsed": true,
        "id": "YcNnuDkQDkjF",
        "outputId": "25d8cbc6-d127-4c99-9eab-9774b949d542"
      },
      "execution_count": 41,
      "outputs": [
        {
          "output_type": "stream",
          "name": "stdout",
          "text": [
            "ColumnTransformer(transformers=[('num', 'passthrough',\n",
            "                                 ['NOMBRE_REGIONAL', 'NOMBRE_CENTRO',\n",
            "                                  'TOTAL_APRENDICES_MATRICULADOS', 'PERIODO']),\n",
            "                                ('cat', OneHotEncoder(),\n",
            "                                 ['MODALIDAD_FORMACION'])])\n",
            "       CODIGO_REGIONAL  NOMBRE_REGIONAL  CODIGO_CENTRO  NOMBRE_CENTRO  \\\n",
            "32821               88               26           9539             44   \n",
            "15986               25               13           9512             22   \n",
            "19372               17                6           9220             65   \n",
            "21434               76               30           9230             90   \n",
            "5105                20               10           9521             64   \n",
            "\n",
            "      MODALIDAD_FORMACION  TOTAL_APRENDICES_MATRICULADOS  PERIODO  \n",
            "32821             VIRTUAL                             80   202402  \n",
            "15986             VIRTUAL                             80   202402  \n",
            "19372             VIRTUAL                             80   202402  \n",
            "21434             VIRTUAL                             80   202402  \n",
            "5105           PRESENCIAL                             30   202402  \n",
            "32821    0.0\n",
            "15986    0.0\n",
            "19372    2.5\n",
            "21434    2.5\n",
            "5105     0.0\n",
            "Name: TASA_DESERCION, dtype: float64\n"
          ]
        }
      ]
    },
    {
      "cell_type": "code",
      "source": [
        "from sklearn.pipeline import Pipeline # Import the Pipeline class\n",
        "from sklearn.linear_model import LinearRegression # Import LinearRegression\n",
        "\n",
        "model = Pipeline(steps=[\n",
        "    ('preprocessor', preprocessor),\n",
        "    ('regressor', LinearRegression())\n",
        "])\n",
        "print(model)\n",
        "print(X_train.head())\n",
        "print(y_train.head())"
      ],
      "metadata": {
        "colab": {
          "base_uri": "https://localhost:8080/"
        },
        "collapsed": true,
        "id": "U2U74bmNVVRP",
        "outputId": "5158d951-1244-450d-9f28-e00f864d35ae"
      },
      "execution_count": 44,
      "outputs": [
        {
          "output_type": "stream",
          "name": "stdout",
          "text": [
            "Pipeline(steps=[('preprocessor',\n",
            "                 ColumnTransformer(transformers=[('num', 'passthrough',\n",
            "                                                  ['NOMBRE_REGIONAL',\n",
            "                                                   'NOMBRE_CENTRO',\n",
            "                                                   'TOTAL_APRENDICES_MATRICULADOS',\n",
            "                                                   'PERIODO']),\n",
            "                                                 ('cat', OneHotEncoder(),\n",
            "                                                  ['MODALIDAD_FORMACION'])])),\n",
            "                ('regressor', LinearRegression())])\n",
            "       CODIGO_REGIONAL  NOMBRE_REGIONAL  CODIGO_CENTRO  NOMBRE_CENTRO  \\\n",
            "32821               88               26           9539             44   \n",
            "15986               25               13           9512             22   \n",
            "19372               17                6           9220             65   \n",
            "21434               76               30           9230             90   \n",
            "5105                20               10           9521             64   \n",
            "\n",
            "      MODALIDAD_FORMACION  TOTAL_APRENDICES_MATRICULADOS  PERIODO  \n",
            "32821             VIRTUAL                             80   202402  \n",
            "15986             VIRTUAL                             80   202402  \n",
            "19372             VIRTUAL                             80   202402  \n",
            "21434             VIRTUAL                             80   202402  \n",
            "5105           PRESENCIAL                             30   202402  \n",
            "32821    0.0\n",
            "15986    0.0\n",
            "19372    2.5\n",
            "21434    2.5\n",
            "5105     0.0\n",
            "Name: TASA_DESERCION, dtype: float64\n"
          ]
        }
      ]
    },
    {
      "cell_type": "code",
      "source": [
        "# Entrenar el modelo\n",
        "model.fit(X_train, y_train)\n",
        "print(model)\n",
        "print(X_train.head())\n",
        "print(y_train.head())"
      ],
      "metadata": {
        "colab": {
          "base_uri": "https://localhost:8080/"
        },
        "id": "UzOjVk_QWQsl",
        "outputId": "41d4730a-466d-449f-f128-e8fb2a8b8a68"
      },
      "execution_count": 45,
      "outputs": [
        {
          "output_type": "stream",
          "name": "stdout",
          "text": [
            "Pipeline(steps=[('preprocessor',\n",
            "                 ColumnTransformer(transformers=[('num', 'passthrough',\n",
            "                                                  ['NOMBRE_REGIONAL',\n",
            "                                                   'NOMBRE_CENTRO',\n",
            "                                                   'TOTAL_APRENDICES_MATRICULADOS',\n",
            "                                                   'PERIODO']),\n",
            "                                                 ('cat', OneHotEncoder(),\n",
            "                                                  ['MODALIDAD_FORMACION'])])),\n",
            "                ('regressor', LinearRegression())])\n",
            "       CODIGO_REGIONAL  NOMBRE_REGIONAL  CODIGO_CENTRO  NOMBRE_CENTRO  \\\n",
            "32821               88               26           9539             44   \n",
            "15986               25               13           9512             22   \n",
            "19372               17                6           9220             65   \n",
            "21434               76               30           9230             90   \n",
            "5105                20               10           9521             64   \n",
            "\n",
            "      MODALIDAD_FORMACION  TOTAL_APRENDICES_MATRICULADOS  PERIODO  \n",
            "32821             VIRTUAL                             80   202402  \n",
            "15986             VIRTUAL                             80   202402  \n",
            "19372             VIRTUAL                             80   202402  \n",
            "21434             VIRTUAL                             80   202402  \n",
            "5105           PRESENCIAL                             30   202402  \n",
            "32821    0.0\n",
            "15986    0.0\n",
            "19372    2.5\n",
            "21434    2.5\n",
            "5105     0.0\n",
            "Name: TASA_DESERCION, dtype: float64\n"
          ]
        }
      ]
    },
    {
      "cell_type": "markdown",
      "source": [],
      "metadata": {
        "id": "VwTyhhyvWm3h"
      }
    },
    {
      "cell_type": "code",
      "source": [
        "#entrenar el modelo\n",
        "from sklearn.model_selection import train_test_split\n",
        "\n",
        "# Define the target variable 'y'\n",
        "y = df_cursos_especiales['TASA_DESERCION']\n",
        "\n",
        "# Now you can use 'y' in the train_test_split function\n",
        "X_train, X_test, y_train, y_test = train_test_split(X, y, test_size=0.2, random_state=42)\n",
        "print(X_train.head())\n",
        "print(y_train.head())\n",
        "\n"
      ],
      "metadata": {
        "colab": {
          "base_uri": "https://localhost:8080/"
        },
        "id": "5kRGaiJeq8UT",
        "outputId": "1504b74e-f7d7-4d39-89aa-1dca1ee3e4c0"
      },
      "execution_count": 54,
      "outputs": [
        {
          "output_type": "stream",
          "name": "stdout",
          "text": [
            "       CODIGO_REGIONAL  NOMBRE_REGIONAL  CODIGO_CENTRO  NOMBRE_CENTRO  \\\n",
            "32821               88               26           9539             44   \n",
            "15986               25               13           9512             22   \n",
            "19372               17                6           9220             65   \n",
            "21434               76               30           9230             90   \n",
            "5105                20               10           9521             64   \n",
            "\n",
            "      MODALIDAD_FORMACION  TOTAL_APRENDICES_MATRICULADOS  PERIODO  \n",
            "32821             VIRTUAL                             80   202402  \n",
            "15986             VIRTUAL                             80   202402  \n",
            "19372             VIRTUAL                             80   202402  \n",
            "21434             VIRTUAL                             80   202402  \n",
            "5105           PRESENCIAL                             30   202402  \n",
            "32821    0\n",
            "15986    0\n",
            "19372    2\n",
            "21434    2\n",
            "5105     0\n",
            "Name: TASA_DESERCION, dtype: int64\n"
          ]
        }
      ]
    },
    {
      "cell_type": "code",
      "source": [
        "# Hacer predicciones en el conjunto de prueba\n",
        "y_pred = model.predict(X_test)\n",
        "print(y_pred)\n",
        "print(X_test.head())\n",
        "print(y_test.head())"
      ],
      "metadata": {
        "colab": {
          "base_uri": "https://localhost:8080/"
        },
        "id": "zGYeRjFsXrDq",
        "outputId": "70f86c38-45e4-41cb-fe24-8bafd93ad074"
      },
      "execution_count": 57,
      "outputs": [
        {
          "output_type": "stream",
          "name": "stdout",
          "text": [
            "[7.04399031 7.82393449 6.16959099 ... 2.1011754  6.80474353 2.82470696]\n",
            "       CODIGO_REGIONAL  NOMBRE_REGIONAL  CODIGO_CENTRO  NOMBRE_CENTRO  \\\n",
            "32706               25               13           9511             59   \n",
            "39683               13                4           9304             24   \n",
            "27157               88               26           9539             44   \n",
            "21260               13                4           9304             24   \n",
            "28773                8                3           9302             24   \n",
            "\n",
            "      MODALIDAD_FORMACION  TOTAL_APRENDICES_MATRICULADOS  PERIODO  \n",
            "32706             VIRTUAL                             80   202402  \n",
            "39683             VIRTUAL                             80   202402  \n",
            "27157             VIRTUAL                             80   202402  \n",
            "21260             VIRTUAL                             80   202402  \n",
            "28773             VIRTUAL                             80   202402  \n",
            "32706    0\n",
            "39683    3\n",
            "27157    0\n",
            "21260    1\n",
            "28773    1\n",
            "Name: TASA_DESERCION, dtype: int64\n"
          ]
        }
      ]
    },
    {
      "cell_type": "code",
      "source": [
        "#generame una figura de estos resultados\n",
        "import matplotlib.pyplot as plt\n",
        "plt.scatter(y_test, y_pred)\n",
        "plt.xlabel('Valores reales')\n",
        "plt.ylabel('Predicciones')\n",
        "plt.title('Comparación entre valores reales y predicciones')\n",
        "plt.show()"
      ],
      "metadata": {
        "colab": {
          "base_uri": "https://localhost:8080/",
          "height": 472
        },
        "id": "jTNy3FH-XyP4",
        "outputId": "fdfb786d-8ecf-4921-956c-77f1d6522a5d"
      },
      "execution_count": 58,
      "outputs": [
        {
          "output_type": "display_data",
          "data": {
            "text/plain": [
              "<Figure size 640x480 with 1 Axes>"
            ],
            "image/png": "[encoded data removed]"
          },
          "metadata": {}
        }
      ]
    },
    {
      "cell_type": "code",
      "source": [
        "#calcular metricas de evaluacion\n",
        "from sklearn.metrics import mean_squared_error, r2_score\n",
        "mse = mean_squared_error(y_test, y_pred)\n",
        "r2 = r2_score(y_test, y_pred)\n",
        "print(f\"Mean Squared Error: {mse}\")\n",
        "print(f\"R-squared: {r2}\")"
      ],
      "metadata": {
        "colab": {
          "base_uri": "https://localhost:8080/"
        },
        "id": "dFIIvBrnX_0x",
        "outputId": "7ef03918-29d2-48e8-aa3a-b9a548e0bb80"
      },
      "execution_count": 59,
      "outputs": [
        {
          "output_type": "stream",
          "name": "stdout",
          "text": [
            "Mean Squared Error: 169.56508721052123\n",
            "R-squared: 0.032958560467350684\n"
          ]
        }
      ]
    },
    {
      "cell_type": "code",
      "source": [
        "# Calcular métricas de evaluación\n",
        "mse = mean_squared_error(y_test, y_pred)\n",
        "rmse = np.sqrt(mse)\n",
        "r2 = r2_score(y_test, y_pred)\n",
        "\n",
        "print(f\"Error Cuadrático Medio (MSE): {mse:.2f}\")\n",
        "print(f\"Raíz del Error Cuadrático Medio (RMSE): {rmse:.2f}\")\n",
        "print(f\"Coeficiente de Determinación R²: {r2:.2f}\")"
      ],
      "metadata": {
        "colab": {
          "base_uri": "https://localhost:8080/"
        },
        "id": "5E-pTuNjYLJt",
        "outputId": "80e67b79-ef98-4176-be77-91e8e3b59df8"
      },
      "execution_count": 60,
      "outputs": [
        {
          "output_type": "stream",
          "name": "stdout",
          "text": [
            "Error Cuadrático Medio (MSE): 169.57\n",
            "Raíz del Error Cuadrático Medio (RMSE): 13.02\n",
            "Coeficiente de Determinación R²: 0.03\n"
          ]
        }
      ]
    },
    {
      "cell_type": "code",
      "source": [
        "# Visualización de la distribución de la tasa de deserción\n",
        "plt.figure(figsize=(10, 6))\n",
        "sns.histplot(df_cursos_especiales['TASA_DESERCION'], bins=30, kde=True)\n",
        "plt.title('Distribución de la Tasa de Deserción en Cursos Especiales')\n",
        "plt.xlabel('Tasa de Deserción (%)')\n",
        "plt.ylabel('Frecuencia')\n",
        "plt.show()"
      ],
      "metadata": {
        "colab": {
          "base_uri": "https://localhost:8080/",
          "height": 565
        },
        "collapsed": true,
        "id": "zdggfGzMoOva",
        "outputId": "3f242d52-5449-4aed-97bf-ea470fb0c267"
      },
      "execution_count": 56,
      "outputs": [
        {
          "output_type": "display_data",
          "data": {
            "text/plain": [
              "<Figure size 1000x600 with 1 Axes>"
            ],
            "image/png": "[encoded data removed]"
          },
          "metadata": {}
        }
      ]
    },
    {
      "cell_type": "code",
      "source": [
        "#Hacer predicciones con nuevos datos (ejemplo)\n",
        "# Crear un nuevo dato de ejemplo\n",
        "nuevo_dato = pd.DataFrame({\n",
        "    'NOMBRE_REGIONAL': [4],  # Ejemplo: Regional Bolivar codificada como 4\n",
        "    'NOMBRE_CENTRO': [24],   # Ejemplo: Centro de Comercio y Servicios codificado como 24\n",
        "    'MODALIDAD_FORMACION': ['VIRTUAL'],  # Modalidad virtual\n",
        "    'TOTAL_APRENDICES_MATRICULADOS': [50],\n",
        "    'PERIODO': [202402]\n",
        "})\n",
        "print(nuevo_dato)\n",
        "print(df_cursos_especiales.head())"
      ],
      "metadata": {
        "colab": {
          "base_uri": "https://localhost:8080/"
        },
        "id": "8sa-by7aYXem",
        "outputId": "95b62545-f383-48bf-bffc-e613a0910c6b"
      },
      "execution_count": 63,
      "outputs": [
        {
          "output_type": "stream",
          "name": "stdout",
          "text": [
            "   NOMBRE_REGIONAL  NOMBRE_CENTRO MODALIDAD_FORMACION  \\\n",
            "0                4             24             VIRTUAL   \n",
            "\n",
            "   TOTAL_APRENDICES_MATRICULADOS  PERIODO  \n",
            "0                             50   202402  \n",
            "    CODIGO_REGIONAL  NOMBRE_REGIONAL  CODIGO_CENTRO  NOMBRE_CENTRO  \\\n",
            "7                13                4           9304             24   \n",
            "8                11               14           9405             70   \n",
            "10                8                3           9302             24   \n",
            "17               13                4           9218             99   \n",
            "18               11               14           9405             70   \n",
            "\n",
            "    IDENTIFICADOR_UNICO_FICHA FECHA_INICIO_FICHA FECHA_TERMINACION_FICHA  \\\n",
            "7                    12909270         2024-02-08              2024-03-06   \n",
            "8                    12914465         2024-02-19              2024-02-27   \n",
            "10                   12918237         2024-02-06              2024-02-27   \n",
            "17                   12910192         2024-02-09              2024-03-13   \n",
            "18                   12910682         2024-02-09              2024-03-07   \n",
            "\n",
            "   CODIGO_PROGRAMA  VERSION_PROGRAMA           NOMBRE_PROGRAMA_FORMACION  \\\n",
            "7       \"13410029\"                 2  ADMINISTRACION DE RECURSOS HUMANOS   \n",
            "8       \"12110081\"                 1                  LIDERAZGO EFECTIVO   \n",
            "10      \"63220082\"                 1                   MERCADEO Y VENTAS   \n",
            "17      \"51240087\"                 1         ENGLISH DOES WORK - LEVEL 1   \n",
            "18      \"12310175\"                 1                   CUENTAS CONTABLES   \n",
            "\n",
            "   NIVEL_FORMACION MODALIDAD_FORMACION  TOTAL_APRENDICES_MATRICULADOS  \\\n",
            "7   CURSO ESPECIAL             VIRTUAL                             80   \n",
            "8   CURSO ESPECIAL          PRESENCIAL                             25   \n",
            "10  CURSO ESPECIAL          PRESENCIAL                             24   \n",
            "17  CURSO ESPECIAL             VIRTUAL                             80   \n",
            "18  CURSO ESPECIAL             VIRTUAL                             80   \n",
            "\n",
            "    DESERTORES_AÑO_ACTUAL  PERIODO  TASA_DESERCION DURACION_CURSO  \n",
            "7                       1   202402               1        27 days  \n",
            "8                       0   202402               0         8 days  \n",
            "10                      0   202402               0        21 days  \n",
            "17                      2   202402               2        33 days  \n",
            "18                      2   202402               2        27 days  \n"
          ]
        }
      ]
    },
    {
      "cell_type": "code",
      "source": [
        "# Hacer la predicción\n",
        "prediccion = model.predict(nuevo_dato)\n",
        "print(f\"\\nPredicción de tasa de deserción para el nuevo dato: {prediccion[0]:.2f}%\")"
      ],
      "metadata": {
        "colab": {
          "base_uri": "https://localhost:8080/"
        },
        "id": "5ffHN74oYmf_",
        "outputId": "9a39ec9c-91c8-40b3-c704-72a222bf5732"
      },
      "execution_count": 64,
      "outputs": [
        {
          "output_type": "stream",
          "name": "stdout",
          "text": [
            "\n",
            "Predicción de tasa de deserción para el nuevo dato: 9.01%\n"
          ]
        }
      ]
    },
    {
      "cell_type": "code",
      "source": [
        "#graficame esto\n",
        "import matplotlib.pyplot as plt\n",
        "import seaborn as sns\n",
        "import numpy as np # Import numpy\n",
        "\n",
        "\n",
        "# Convert 'DURACION_CURSO' to numeric, handling errors\n",
        "df_cursos_especiales['DURACION_CURSO'] = pd.to_numeric(df_cursos_especiales['DURACION_CURSO'], errors='coerce')\n",
        "\n",
        "# Select only numeric columns for correlation calculation\n",
        "numeric_df = df_cursos_especiales.select_dtypes(include=np.number)\n",
        "\n",
        "fig, ax = plt.subplots()\n",
        "sns.heatmap(numeric_df.corr(), annot=True)\n",
        "plt.show()"
      ],
      "metadata": {
        "colab": {
          "base_uri": "https://localhost:8080/",
          "height": 678
        },
        "id": "1l_caegtYpKB",
        "outputId": "0d47b168-6079-478d-ba1c-49ec77584c11"
      },
      "execution_count": 67,
      "outputs": [
        {
          "output_type": "display_data",
          "data": {
            "text/plain": [
              "<Figure size 640x480 with 2 Axes>"
            ],
            "image/png": "[encoded data removed]"
          },
          "metadata": {}
        }
      ]
    },
    {
      "cell_type": "code",
      "source": [
        "# 5. Selección de características (features)\n",
        "# Columnas que podrían ser relevantes para la predicción\n",
        "features = [\n",
        "    'CODIGO_REGIONAL',\n",
        "    'NOMBRE_REGIONAL',\n",
        "    'CODIGO_CENTRO',\n",
        "    'NOMBRE_CENTRO',\n",
        "    'MODALIDAD_FORMACION',\n",
        "    'TOTAL_APRENDICES_MATRICULADOS',\n",
        "    'PERIODO'\n",
        "]\n",
        "\n",
        "\n",
        "target = 'TASA_DESERCION'"
      ],
      "metadata": {
        "id": "eDnHqITDoTsu"
      },
      "execution_count": 33,
      "outputs": []
    }
  ]
}